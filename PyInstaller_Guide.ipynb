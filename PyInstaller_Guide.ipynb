{
 "cells": [
  {
   "attachments": {},
   "cell_type": "markdown",
   "metadata": {},
   "source": [
    "## Guide PyInstaller - Comment déployer `.py` en `.exe`"
   ]
  },
  {
   "attachments": {},
   "cell_type": "markdown",
   "metadata": {},
   "source": [
    "⚠️ *Pour que ce notebook soit fonctionnel, copiez le chemin absolu où il se trouve sur votre machine et remplacez la valeur de la variable `notebook_path` ci-dessous.*"
   ]
  },
  {
   "cell_type": "code",
   "execution_count": 3,
   "metadata": {},
   "outputs": [],
   "source": [
    "#notebook_path = \"REPLACE ME !\"\n",
    "notebook_path = \"C:/Users/boyan/Projects/Python_Projects/Thales_Automation/pyinstaller/PyInstaller_Guide.ipynb\" # Path to the pyinstaller folder on your computer"
   ]
  },
  {
   "attachments": {},
   "cell_type": "markdown",
   "metadata": {},
   "source": [
    "*Ensuite, ré-exécutez le notebook (\"run all cells\") et vous pourrez poursuivre votre lecture.*"
   ]
  },
  {
   "attachments": {},
   "cell_type": "markdown",
   "metadata": {},
   "source": [
    "### Pourquoi PyInstaller ?"
   ]
  },
  {
   "attachments": {},
   "cell_type": "markdown",
   "metadata": {},
   "source": [
    "Ce dossier rassemble des scripts d'installation et un guide d'usage pour **PyInstaller**, une lib python visant à déployer des scripts `.py` en `.exe`. <br>\n",
    "L'extension `.exe` est standalone, c'est-à-dire que l'environnement utilisé n'a pas besoin de dépendences pour pouvoir exécuter le script.\n",
    "\n"
   ]
  },
  {
   "attachments": {},
   "cell_type": "markdown",
   "metadata": {},
   "source": [
    "**Attention :** PyInstaller gènère des .exe pour l'OS de la machine sur laquelle le script est compilé. <br> \n",
    "Un `.exe` généré sous un OS Winx64 ne pourra être exécuté que sur une autre machine Windows 64 bits. <br> \n",
    "Une bonne pratique est donc d'inclure dans le nom du fichier le **nom de l'OS** et la **version de Python** utilisée pour le générer."
   ]
  },
  {
   "attachments": {},
   "cell_type": "markdown",
   "metadata": {},
   "source": [
    "Lire la doc officielle : [RTFM](https://pyinstaller.org)"
   ]
  },
  {
   "attachments": {},
   "cell_type": "markdown",
   "metadata": {},
   "source": [
    "### Installation Guidée"
   ]
  },
  {
   "attachments": {},
   "cell_type": "markdown",
   "metadata": {},
   "source": [
    "#### Setup"
   ]
  },
  {
   "attachments": {},
   "cell_type": "markdown",
   "metadata": {},
   "source": [
    "Imports"
   ]
  },
  {
   "cell_type": "code",
   "execution_count": 16,
   "metadata": {},
   "outputs": [],
   "source": [
    "import os\n",
    "import sys \n",
    "import subprocess"
   ]
  },
  {
   "attachments": {},
   "cell_type": "markdown",
   "metadata": {},
   "source": [
    "On vérifie l'arborescence des dossiers autour du notebook et on définit le  `path` , qui pointe vers  `pyinstaller` , afin que les chemins relatifs utilisés après soient corrects."
   ]
  },
  {
   "cell_type": "code",
   "execution_count": 5,
   "metadata": {},
   "outputs": [
    {
     "name": "stdout",
     "output_type": "stream",
     "text": [
      "C:\\Users\\boyan\\Projects\\Python_Projects\\Thales_Automation\\pyinstaller\n",
      "Folder is initialized correctly.\n"
     ]
    }
   ],
   "source": [
    "#TODO Check for worktree\n",
    "if notebook_path == \"REPLACE ME !\":\n",
    "    print(\"Pour que ce notebook soit fonctionnel, copiez le chemin absolu où il se trouve sur votre machine et remplacez la valeur de la variable path en début de notebook.\")    \n",
    "else:\n",
    "    path = os.path.dirname(notebook_path)\n",
    "    os.chdir(path)\n",
    "    print(os.getcwd())\n",
    "    if os.path.basename(os.path.normpath(path)) == 'pyinstaller':\n",
    "        print('Folder is initialized correctly.')\n",
    "    else: \n",
    "        print('Error: file was placed in the wrong dir.')"
   ]
  },
  {
   "attachments": {},
   "cell_type": "markdown",
   "metadata": {},
   "source": [
    "#### Version de Python"
   ]
  },
  {
   "attachments": {},
   "cell_type": "markdown",
   "metadata": {},
   "source": [
    "On vérifie tout d'abord la version de Python utilisée. <br>"
   ]
  },
  {
   "cell_type": "code",
   "execution_count": 6,
   "metadata": {},
   "outputs": [
    {
     "name": "stdout",
     "output_type": "stream",
     "text": [
      "Python 3.10.11\n"
     ]
    }
   ],
   "source": [
    "python_version = subprocess.getoutput(\"python --version\")\n",
    "print(python_version)"
   ]
  },
  {
   "attachments": {},
   "cell_type": "markdown",
   "metadata": {},
   "source": [
    "#### Versions disponibles de PyInstaller et ses dépendences"
   ]
  },
  {
   "attachments": {},
   "cell_type": "markdown",
   "metadata": {},
   "source": [
    "Le dossier `pyinstaller` contient une bibliothèque de versions de PyInstaller et de ses dépendences. <br>\n",
    "On récupère ici la liste des versions disponibles."
   ]
  },
  {
   "cell_type": "code",
   "execution_count": 7,
   "metadata": {},
   "outputs": [
    {
     "name": "stdout",
     "output_type": "stream",
     "text": [
      "['Python 3.10.11', 'Python 3.11', 'Python 3.6', 'Python 3.7', 'Python 3.8', 'Python 3.9', 'Python 3.9.7']\n"
     ]
    }
   ],
   "source": [
    "libs_path = os.path.join(path,'libs')\n",
    "os.chdir(libs_path)\n",
    "available_versions = os.listdir()\n",
    "print(available_versions)"
   ]
  },
  {
   "attachments": {},
   "cell_type": "markdown",
   "metadata": {},
   "source": [
    "#### Compatibilité des versions disponibles"
   ]
  },
  {
   "attachments": {},
   "cell_type": "markdown",
   "metadata": {},
   "source": [
    "##### Fonctions"
   ]
  },
  {
   "cell_type": "code",
   "execution_count": 8,
   "metadata": {},
   "outputs": [],
   "source": [
    "def createRequirementsFile(version_path):\n",
    "    filename = os.path.join(version_path, \"requirements.txt\")\n",
    "    with open(filename, \"w\") as f:\n",
    "        f.write(f\"pyinstaller \\n\")"
   ]
  },
  {
   "cell_type": "code",
   "execution_count": 9,
   "metadata": {},
   "outputs": [],
   "source": [
    "#TODO: If problems of incompatible install arise, try using \"py -x.x.x download\", so that the interpreter is the right version for the libs\n",
    "# pip download -r \"C:\\Users\\boyan\\Projects\\Python_Projects\\Thales_Automation\\pyinstaller\\libs\\Python 3.7\\requirements.txt\" -d \"C:\\Users\\boyan\\Projects\\Python_Projects\\Thales_Automation\\pyinstaller\\libs\\Python 3.7\" --python-version 3.7  --only-binary=:all:\n",
    "\n",
    "def downloadLibs(version_path,python_version):\n",
    "    version_num = python_version.split(' ')[1]\n",
    "    req_path = os.path.join(version_path, \"requirements.txt\")\n",
    "    try:\n",
    "        subprocess.check_call([sys.executable,'-m','pip','download','-r',req_path,'-d',version_path,'--python-version',version_num,'--only-binary=:all:'])\n",
    "        return True\n",
    "    except:\n",
    "        return False"
   ]
  },
  {
   "cell_type": "code",
   "execution_count": 10,
   "metadata": {},
   "outputs": [],
   "source": [
    "#TODO : Add a check to see if the version is already downloaded\n",
    "#TODO : Add a check if the folder is already created\n",
    "#TODO : Add a check if the folder is empty\n",
    "#TODO : Add a check if the requirements.txt is already created\n",
    "#TODO : Add a check if some files are missing\n",
    "\n",
    "def downloadVersion(libs_path,python_version):\n",
    "    print(f\"Création du dossier pour {python_version}\")\n",
    "    version_path = os.path.join(libs_path, python_version)\n",
    "    os.mkdir(version_path)\n",
    "    os.chdir(version_path)\n",
    "    print(\"Création du requirements.txt\")\n",
    "    createRequirementsFile(version_path)\n",
    "    print(\"Téléchargement de PyInstaller et ses dépendences...\")\n",
    "    return downloadLibs(version_path, python_version)"
   ]
  },
  {
   "cell_type": "code",
   "execution_count": 11,
   "metadata": {},
   "outputs": [],
   "source": [
    "def installVersion(version_path,python_version):\n",
    "    version_path = os.path.join(version_path,python_version)\n",
    "    os.chdir(version_path)\n",
    "    try:\n",
    "        subprocess.run([\"pip\", \"install\", \"-r\", \"requirements.txt\", \"--target\", version_path])\n",
    "        return True\n",
    "    except:\n",
    "        return False"
   ]
  },
  {
   "cell_type": "code",
   "execution_count": 12,
   "metadata": {},
   "outputs": [
    {
     "name": "stdout",
     "output_type": "stream",
     "text": [
      "C:/Users/boyan/Projects/Python_Projects/Thales_Automation/pyinstaller\\libs\n",
      "Python 3.10.11\n"
     ]
    }
   ],
   "source": [
    "#DEBUG\n",
    "print(libs_path)\n",
    "print(python_version)\n",
    "db_dir = 'C:/Users/boyan/Projects/Python_Projects/Thales_Automation/pyinstaller/libs'  \n",
    "#createRequirementsFile(db_dir)\n",
    "#downloadLibs(db_dir,'Python 3.7')\n",
    "#downloadVersion(libs_path,'Python 3.7')"
   ]
  },
  {
   "attachments": {},
   "cell_type": "markdown",
   "metadata": {},
   "source": [
    "##### Script d'Installation"
   ]
  },
  {
   "attachments": {},
   "cell_type": "markdown",
   "metadata": {},
   "source": [
    "Ce script assure l'installation de PyInstaller si une version compatible à la version de Python utilisée est disponible. <br>"
   ]
  },
  {
   "cell_type": "code",
   "execution_count": 13,
   "metadata": {},
   "outputs": [
    {
     "data": {
      "text/plain": [
       "'\\npython_global_version = \\'Python \\'+ \\'.\\'.join(python_version.split()[1].split(\\'.\\')[0:2])\\navailable_global_versions = [\\'Python \\'+ \\'.\\'.join(version.split()[1].split(\\'.\\')[0:2]) for version in available_versions]\\n\\nif python_version in available_versions:\\n    print(f\"PyInstaller est disponible localement pour {python_version}.\")\\n    print(\"Installation de PyInstaller...\")\\n    \\n    if installVersion(libs_path,python_version):\\n        print(\"PyInstaller installé avec succès.\")\\n        \\n    else:\\n        print(\"Erreur lors de l\\'installation de PyInstaller.\")\\n    \\n\\nif python_global_version in available_global_versions:\\n    print(f\"PyInstaller n\\'est pas disponible localement pour {python_version}, mais il y a une version pour {python_global_version}.\")\\n    print(\"Installation de PyInstaller...\")\\n    \\n    if installVersion(libs_path,python_global_version):\\n        print(\"PyInstaller installé avec succès.\")\\n        \\n    else:\\n        print(\"Erreur lors de l\\'installation de PyInstaller.\")\\n    \\nelse:\\n    print(f\"PyInstaller n\\'est pas disponible localement pour {python_version} ou {python_global_version}.\")\\n    print(f\"Tentative de téléchargement de PyInstaller pour {python_version} depuis PyPi.org ...\")\\n    \\n    if downloadVersion(libs_path,python_version):\\n        print(f\"Téléchargement de PyInstaller pour {python_version} réussi.\")\\n        print(f\"Relancez le script pour l\\'installer.\")\\n        \\n    else:\\n        print(\"Téléchargement impossible pour cause d\\'erreur réseau.\")\\n        print(\"Le dossier de version a été crée, et un \\'requirements.txt\\' y a été ajouté.\")\\n        print(\"Veuillez relancer le script sur une machine connectée à internet.\")\\n        print(\"Les librairies seront automatiquement téléchargées dans le dossier de version.\")\\n        print(f\"Alternativement, les librairies peuvent être placées manuellement dans le dossier {os.path.join(libs_path,python_version)}\")  \\n'"
      ]
     },
     "execution_count": 13,
     "metadata": {},
     "output_type": "execute_result"
    }
   ],
   "source": [
    "'''\n",
    "python_global_version = 'Python '+ '.'.join(python_version.split()[1].split('.')[0:2])\n",
    "available_global_versions = ['Python '+ '.'.join(version.split()[1].split('.')[0:2]) for version in available_versions]\n",
    "\n",
    "if python_version in available_versions:\n",
    "    print(f\"PyInstaller est disponible localement pour {python_version}.\")\n",
    "    print(\"Installation de PyInstaller...\")\n",
    "    \n",
    "    if installVersion(libs_path,python_version):\n",
    "        print(\"PyInstaller installé avec succès.\")\n",
    "        \n",
    "    else:\n",
    "        print(\"Erreur lors de l'installation de PyInstaller.\")\n",
    "    \n",
    "\n",
    "if python_global_version in available_global_versions:\n",
    "    print(f\"PyInstaller n'est pas disponible localement pour {python_version}, mais il y a une version pour {python_global_version}.\")\n",
    "    print(\"Installation de PyInstaller...\")\n",
    "    \n",
    "    if installVersion(libs_path,python_global_version):\n",
    "        print(\"PyInstaller installé avec succès.\")\n",
    "        \n",
    "    else:\n",
    "        print(\"Erreur lors de l'installation de PyInstaller.\")\n",
    "    \n",
    "else:\n",
    "    print(f\"PyInstaller n'est pas disponible localement pour {python_version} ou {python_global_version}.\")\n",
    "    print(f\"Tentative de téléchargement de PyInstaller pour {python_version} depuis PyPi.org ...\")\n",
    "    \n",
    "    if downloadVersion(libs_path,python_version):\n",
    "        print(f\"Téléchargement de PyInstaller pour {python_version} réussi.\")\n",
    "        print(f\"Relancez le script pour l'installer.\")\n",
    "        \n",
    "    else:\n",
    "        print(\"Téléchargement impossible pour cause d'erreur réseau.\")\n",
    "        print(\"Le dossier de version a été crée, et un 'requirements.txt' y a été ajouté.\")\n",
    "        print(\"Veuillez relancer le script sur une machine connectée à internet.\")\n",
    "        print(\"Les librairies seront automatiquement téléchargées dans le dossier de version.\")\n",
    "        print(f\"Alternativement, les librairies peuvent être placées manuellement dans le dossier {os.path.join(libs_path,python_version)}\")  \n",
    "'''    \n",
    "        "
   ]
  },
  {
   "attachments": {},
   "cell_type": "markdown",
   "metadata": {},
   "source": [
    "##### Script de Téléchargement"
   ]
  },
  {
   "attachments": {},
   "cell_type": "markdown",
   "metadata": {},
   "source": [
    "Ce script permet de télécharger les versions de PyInstaller et de ses dépendences qui ne sont pas déjà disponibles dans le dossier `pyinstaller`. <br>"
   ]
  },
  {
   "cell_type": "code",
   "execution_count": 14,
   "metadata": {},
   "outputs": [
    {
     "data": {
      "text/plain": [
       "'\\npython_global_version = \\'Python \\'+ \\'.\\'.join(python_version.split()[1].split(\\'.\\')[0:2])\\navailable_global_versions = [\\'Python \\'+ \\'.\\'.join(version.split()[1].split(\\'.\\')[0:2]) for version in available_versions]\\n\\nif python_version in available_versions:\\n    print(f\"PyInstaller est disponible localement pour {python_version}.\")\\n    print(\"Installation de PyInstaller...\")\\n    \\n    if installVersion(libs_path,python_version):\\n        print(\"PyInstaller installé avec succès.\")\\n        \\n    else:\\n        print(\"Erreur lors de l\\'installation de PyInstaller.\")\\n    \\n\\nif python_global_version in available_global_versions:\\n    print(f\"PyInstaller n\\'est pas disponible localement pour {python_version}, mais il y a une version pour {python_global_version}.\")\\n    print(\"Installation de PyInstaller...\")\\n    \\n    if installVersion(libs_path,python_global_version):\\n        print(\"PyInstaller installé avec succès.\")\\n        \\n    else:\\n        print(\"Erreur lors de l\\'installation de PyInstaller.\")\\n    \\nelse:\\n    print(f\"PyInstaller n\\'est pas disponible localement pour {python_version} ou {python_global_version}.\")\\n    print(f\"Tentative de téléchargement de PyInstaller pour {python_version} depuis PyPi.org ...\")\\n    \\n    if downloadVersion(libs_path,python_version):\\n        print(f\"Téléchargement de PyInstaller pour {python_version} réussi.\")\\n        print(f\"Relancez le script pour l\\'installer.\")\\n        \\n    else:\\n        print(\"Téléchargement impossible pour cause d\\'erreur réseau.\")\\n        print(\"Le dossier de version a été crée, et un \\'requirements.txt\\' y a été ajouté.\")\\n        print(\"Veuillez relancer le script sur une machine connectée à internet.\")\\n        print(\"Les librairies seront automatiquement téléchargées dans le dossier de version.\")\\n        print(f\"Alternativement, les librairies peuvent être placées manuellement dans le dossier {os.path.join(libs_path,python_version)}\")  \\n    \\n'"
      ]
     },
     "execution_count": 14,
     "metadata": {},
     "output_type": "execute_result"
    }
   ],
   "source": [
    "'''\n",
    "python_global_version = 'Python '+ '.'.join(python_version.split()[1].split('.')[0:2])\n",
    "available_global_versions = ['Python '+ '.'.join(version.split()[1].split('.')[0:2]) for version in available_versions]\n",
    "\n",
    "if python_version in available_versions:\n",
    "    print(f\"PyInstaller est disponible localement pour {python_version}.\")\n",
    "    print(\"Installation de PyInstaller...\")\n",
    "    \n",
    "    if installVersion(libs_path,python_version):\n",
    "        print(\"PyInstaller installé avec succès.\")\n",
    "        \n",
    "    else:\n",
    "        print(\"Erreur lors de l'installation de PyInstaller.\")\n",
    "    \n",
    "\n",
    "if python_global_version in available_global_versions:\n",
    "    print(f\"PyInstaller n'est pas disponible localement pour {python_version}, mais il y a une version pour {python_global_version}.\")\n",
    "    print(\"Installation de PyInstaller...\")\n",
    "    \n",
    "    if installVersion(libs_path,python_global_version):\n",
    "        print(\"PyInstaller installé avec succès.\")\n",
    "        \n",
    "    else:\n",
    "        print(\"Erreur lors de l'installation de PyInstaller.\")\n",
    "    \n",
    "else:\n",
    "    print(f\"PyInstaller n'est pas disponible localement pour {python_version} ou {python_global_version}.\")\n",
    "    print(f\"Tentative de téléchargement de PyInstaller pour {python_version} depuis PyPi.org ...\")\n",
    "    \n",
    "    if downloadVersion(libs_path,python_version):\n",
    "        print(f\"Téléchargement de PyInstaller pour {python_version} réussi.\")\n",
    "        print(f\"Relancez le script pour l'installer.\")\n",
    "        \n",
    "    else:\n",
    "        print(\"Téléchargement impossible pour cause d'erreur réseau.\")\n",
    "        print(\"Le dossier de version a été crée, et un 'requirements.txt' y a été ajouté.\")\n",
    "        print(\"Veuillez relancer le script sur une machine connectée à internet.\")\n",
    "        print(\"Les librairies seront automatiquement téléchargées dans le dossier de version.\")\n",
    "        print(f\"Alternativement, les librairies peuvent être placées manuellement dans le dossier {os.path.join(libs_path,python_version)}\")  \n",
    "    \n",
    "'''       "
   ]
  },
  {
   "attachments": {},
   "cell_type": "markdown",
   "metadata": {},
   "source": [
    "##### Script de Téléchargement Auto"
   ]
  },
  {
   "attachments": {},
   "cell_type": "markdown",
   "metadata": {},
   "source": [
    "Ce script passe en revue les versions de PyInstaller précédemment installées et télécharge les fichiers ou versions manquantes. <br>"
   ]
  },
  {
   "cell_type": "code",
   "execution_count": 31,
   "metadata": {},
   "outputs": [
    {
     "data": {
      "text/plain": [
       "'\\nif python_version in available_versions:\\n    print(f\"PyInstaller est disponible localement pour {python_version}.\")\\n    print(\"Installation de PyInstaller...\")\\n    \\n    if installVersion(libs_path,python_version):\\n        print(\"PyInstaller installé avec succès.\")\\n        \\n    else:\\n        print(\"Erreur lors de l\\'installation de PyInstaller.\")\\n    \\n\\nif python_global_version in available_global_versions:\\n    print(f\"PyInstaller n\\'est pas disponible localement pour {python_version}, mais il y a une version pour {python_global_version}.\")\\n    print(\"Installation de PyInstaller...\")\\n    \\n    if installVersion(libs_path,python_global_version):\\n        print(\"PyInstaller installé avec succès.\")\\n        \\n    else:\\n        print(\"Erreur lors de l\\'installation de PyInstaller.\")\\n    \\nelse:\\n    print(f\"PyInstaller n\\'est pas disponible localement pour {python_version} ou {python_global_version}.\")\\n    print(f\"Tentative de téléchargement de PyInstaller pour {python_version} depuis PyPi.org ...\")\\n    \\n    if downloadVersion(libs_path,python_version):\\n        print(f\"Téléchargement de PyInstaller pour {python_version} réussi.\")\\n        print(f\"Relancez le script pour l\\'installer.\")\\n        \\n    else:\\n        print(\"Téléchargement impossible pour cause d\\'erreur réseau.\")\\n        print(\"Le dossier de version a été crée, et un \\'requirements.txt\\' y a été ajouté.\")\\n        print(\"Veuillez relancer le script sur une machine connectée à internet.\")\\n        print(\"Les librairies seront automatiquement téléchargées dans le dossier de version.\")\\n        print(f\"Alternativement, les librairies peuvent être placées manuellement dans le dossier {os.path.join(libs_path,python_version)}\")  \\n'"
      ]
     },
     "execution_count": 31,
     "metadata": {},
     "output_type": "execute_result"
    }
   ],
   "source": [
    "number_of_files = -1\n",
    "os.chdir(libs_path)\n",
    "for version in available_versions:\n",
    "    number_of_files = max(number_of_files,len(os.listdir(\"./\"+version)))\n",
    "    # folder is empty\n",
    "    if os.listdir(\"./\"+version) == []:\n",
    "        print(f'{version} empty')\n",
    "        break\n",
    "    # folder contains a wrong number of files\n",
    "    if max(number_of_files,len(os.listdir(\"./\"+version))) != number_of_files:\n",
    "        print(f'{version} is not the same as {available_versions[0]}')\n",
    "        break\n",
    "    \n",
    "    \n",
    "\n",
    "'''\n",
    "if python_version in available_versions:\n",
    "    print(f\"PyInstaller est disponible localement pour {python_version}.\")\n",
    "    print(\"Installation de PyInstaller...\")\n",
    "    \n",
    "    if installVersion(libs_path,python_version):\n",
    "        print(\"PyInstaller installé avec succès.\")\n",
    "        \n",
    "    else:\n",
    "        print(\"Erreur lors de l'installation de PyInstaller.\")\n",
    "    \n",
    "\n",
    "if python_global_version in available_global_versions:\n",
    "    print(f\"PyInstaller n'est pas disponible localement pour {python_version}, mais il y a une version pour {python_global_version}.\")\n",
    "    print(\"Installation de PyInstaller...\")\n",
    "    \n",
    "    if installVersion(libs_path,python_global_version):\n",
    "        print(\"PyInstaller installé avec succès.\")\n",
    "        \n",
    "    else:\n",
    "        print(\"Erreur lors de l'installation de PyInstaller.\")\n",
    "    \n",
    "else:\n",
    "    print(f\"PyInstaller n'est pas disponible localement pour {python_version} ou {python_global_version}.\")\n",
    "    print(f\"Tentative de téléchargement de PyInstaller pour {python_version} depuis PyPi.org ...\")\n",
    "    \n",
    "    if downloadVersion(libs_path,python_version):\n",
    "        print(f\"Téléchargement de PyInstaller pour {python_version} réussi.\")\n",
    "        print(f\"Relancez le script pour l'installer.\")\n",
    "        \n",
    "    else:\n",
    "        print(\"Téléchargement impossible pour cause d'erreur réseau.\")\n",
    "        print(\"Le dossier de version a été crée, et un 'requirements.txt' y a été ajouté.\")\n",
    "        print(\"Veuillez relancer le script sur une machine connectée à internet.\")\n",
    "        print(\"Les librairies seront automatiquement téléchargées dans le dossier de version.\")\n",
    "        print(f\"Alternativement, les librairies peuvent être placées manuellement dans le dossier {os.path.join(libs_path,python_version)}\")  \n",
    "'''\n",
    "        "
   ]
  },
  {
   "attachments": {},
   "cell_type": "markdown",
   "metadata": {},
   "source": [
    "### Guide d'Usages"
   ]
  },
  {
   "attachments": {},
   "cell_type": "markdown",
   "metadata": {},
   "source": [
    "#### 1. La commande PyInstaller\n"
   ]
  },
  {
   "attachments": {},
   "cell_type": "markdown",
   "metadata": {},
   "source": [
    "\n",
    "```bash \n",
    "pyinstaller [options] script [script …] | specfile\n",
    "```\n",
    "ou sur Windows, si pyinstaller n'est pas dans le $PATH :\n",
    "```bash\n",
    "py -m PyInstaller [options] script [script …] | specfile\n",
    "```\n",
    "\n",
    "Cette commande permet de package les scripts python en .exe.\n"
   ]
  },
  {
   "cell_type": "markdown",
   "metadata": {},
   "source": [
    "Dans son utilisation la plus simple, on se place dans le dossier contenant le script et on lance :\n",
    "\n",
    "```bash \n",
    "pyinstaller myscript.py\n",
    "```\n"
   ]
  },
  {
   "cell_type": "markdown",
   "metadata": {},
   "source": [
    "\n",
    "PyInstaller analyse le script et :\n",
    "- Génère `myscript.spec` dans le même dossier que le script.\n",
    "- Crée un dossier `build` dans le même dossier que le script s'il n'existe pas.\n",
    "- Génère des fichiers de log et de travail dans le dossier `build`.\n",
    "- Crée un dossier dist dans le même dossier que le script s'il n'existe pas.\n",
    "- Génère l'exécutable `myscript` dans le dossier `dist`. C'est ce .exe que l'on peut ensuite distribuer à l'utilisateur.\n",
    "\n",
    "**TLDR : PyInstaller analyse le script et génère un dossier `dist` contenant l'exécutable.**\n"
   ]
  },
  {
   "attachments": {},
   "cell_type": "markdown",
   "metadata": {},
   "source": [
    "#### 2. Cas d'usages\n"
   ]
  },
  {
   "attachments": {},
   "cell_type": "markdown",
   "metadata": {},
   "source": [
    "- Cas 1 : On génère un bundle avec un nom particulier à partir d'un script dans le current directory <br>\n",
    "        ```bash\tpyinstaller -n myscript_Winx64_python3.10.11.exe myscript.py```\n",
    "\n",
    "- Cas 2 : Le script est dans le current directory, on génère un fichier .exe avec un nom particulier dans un directory spécifique <br>\n",
    "        ```bash\tpyinstaller --distpath \"./exe\" -F -n myscript_Winx64_python3.10.11.exe myscript.py```\n",
    "\n",
    "- Cas 3 : Le script est dans un dossier spécifique, on génère un bundle dans le current directory et le .spec dans un dossier spécifique<br>\n",
    "        ```bash\tpyinstaller --specpath=<chemin_du_dossier_spec> --distpath=. --workpath=<chemin_du_dossier_de_travail> <chemin_du_script>```"
   ]
  },
  {
   "attachments": {},
   "cell_type": "markdown",
   "metadata": {},
   "source": [
    "#### 3. Quelques options utiles\n"
   ]
  },
  {
   "attachments": {},
   "cell_type": "markdown",
   "metadata": {},
   "source": [
    "- ```bash -h, --help ``` ->\n",
    "Affiche l'aide et quitte.\n",
    "\n",
    "- ```bash -v, --version``` ->\n",
    "Affiche les infos de version et quitte.\n",
    "\n",
    "- ```bash -D, --onedir``` ->\n",
    "Crée un dossier contenant l'exécutable (défaut)\n",
    "\n",
    "- ```bash -F, --onefile``` ->\n",
    "Crée un fichier exécutable unique.\n",
    "\n",
    "- ```bash --specpath DIR``` ->\n",
    "Dossier où stocker le fichier spec généré (défaut : dossier courant)\n",
    "\n",
    "- ```bash -n NAME, --name NAME``` ->\n",
    "Nom à assigner à l'application packagée et au fichier spec (défaut : nom du premier script)\n",
    "\n",
    "- ```bash --distpath DIR``` ->\n",
    "Où mettre l'application packagée (défaut : ./dist)\n",
    "\n",
    "- ```bash --workpath WORKPATH``` ->\n",
    "Où mettre tous les fichiers temporaires de travail, .log, .pyz et etc. (défaut : ./build)\n",
    "\n",
    "- ```bash -y, --noconfirm``` ->\n",
    "Remplace le dossier de sortie (défaut : SPECPATH/dist/SPECNAME) sans demander de confirmation\n",
    "\n",
    "- ```bash -a, --ascii``` ->\n",
    "Ne pas inclure le support de l'encodage unicode dans l'.exe (défaut : inclus si disponible)\n",
    "\n",
    "- ```bash --clean``` ->\n",
    "Nettoie le cache PyInstaller et supprime les fichiers temporaires avant de construire."
   ]
  }
 ],
 "metadata": {
  "kernelspec": {
   "display_name": "Python 3",
   "language": "python",
   "name": "python3"
  },
  "language_info": {
   "codemirror_mode": {
    "name": "ipython",
    "version": 3
   },
   "file_extension": ".py",
   "mimetype": "text/x-python",
   "name": "python",
   "nbconvert_exporter": "python",
   "pygments_lexer": "ipython3",
   "version": "3.10.11"
  },
  "orig_nbformat": 4
 },
 "nbformat": 4,
 "nbformat_minor": 2
}
